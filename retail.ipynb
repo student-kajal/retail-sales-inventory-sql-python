{
 "cells": [
  {
   "cell_type": "code",
   "execution_count": 1,
   "id": "49224c9a-6ea3-4399-ad66-9d6e74a575b1",
   "metadata": {},
   "outputs": [],
   "source": [
    "import pandas as pd\n",
    "import numpy as np\n",
    "import sqlite3"
   ]
  },
  {
   "cell_type": "code",
   "execution_count": 2,
   "id": "487cb41d-8302-430b-8afe-678d4864ae62",
   "metadata": {},
   "outputs": [
    {
     "name": "stdout",
     "output_type": "stream",
     "text": [
      "🔹 Sample Data:\n",
      "   ProductID Region    Sales  Returns  Inventory       Date\n",
      "0       1051  South  3638.62   712.01        187 2023-01-01\n",
      "1       1092   East  3560.63   825.98        229 2023-01-02\n",
      "2       1014   West  3283.75   100.64        167 2023-01-03\n",
      "3       1071   West  3887.22   239.87        419 2023-01-04\n",
      "4       1060  North  1213.72   141.97        113 2023-01-05\n"
     ]
    }
   ],
   "source": [
    "np.random.seed(42)\n",
    "n = 1000\n",
    "\n",
    "data = {\n",
    "    \"ProductID\": np.random.randint(1000, 1100, size=n),\n",
    "    \"Region\": np.random.choice([\"North\", \"South\", \"East\", \"West\"], size=n),\n",
    "    \"Sales\": np.round(np.random.uniform(500, 5000, size=n), 2),\n",
    "    \"Returns\": np.round(np.random.uniform(0, 1000, size=n), 2),\n",
    "    \"Inventory\": np.random.randint(0, 500, size=n),\n",
    "    \"Date\": pd.date_range(start=\"2023-01-01\", periods=n, freq=\"D\")\n",
    "}\n",
    "\n",
    "df = pd.DataFrame(data)\n",
    "print(\"🔹 Sample Data:\")\n",
    "print(df.head())"
   ]
  },
  {
   "cell_type": "code",
   "execution_count": 3,
   "id": "a201b310-d9b9-4edf-a9b8-439110fdf54a",
   "metadata": {},
   "outputs": [
    {
     "name": "stdout",
     "output_type": "stream",
     "text": [
      "\n",
      " CSV saved as 'sales_inventory_data.csv'\n"
     ]
    }
   ],
   "source": [
    "df.to_csv(\"sales_inventory_data.csv\", index=False)\n",
    "print(\"\\n CSV saved as 'sales_inventory_data.csv'\")"
   ]
  },
  {
   "cell_type": "code",
   "execution_count": 4,
   "id": "bb088688-ac9c-46dd-9cff-77514df6ac6d",
   "metadata": {},
   "outputs": [
    {
     "name": "stdout",
     "output_type": "stream",
     "text": [
      "SQLite DB created: 'retail.db' with table 'sales_inventory'\n"
     ]
    }
   ],
   "source": [
    "conn = sqlite3.connect(\"retail.db\")\n",
    "df.to_sql(\"sales_inventory\", conn, if_exists=\"replace\", index=False)\n",
    "print(\"SQLite DB created: 'retail.db' with table 'sales_inventory'\")"
   ]
  },
  {
   "cell_type": "code",
   "execution_count": 5,
   "id": "b035b144-ccfb-466c-a832-db3bb525dd4e",
   "metadata": {},
   "outputs": [
    {
     "name": "stdout",
     "output_type": "stream",
     "text": [
      "\n",
      "📊 SQL Query 1: Total Sales by Region\n",
      "  Region  TotalSales\n",
      "0   East   727563.11\n",
      "1  North   733558.17\n",
      "2  South   674018.66\n",
      "3   West   624726.78\n",
      "\n",
      "📈 SQL Query 2: Monthly Sales Trend\n",
      "      Month  MonthlySales\n",
      "0   2023-01      92562.03\n",
      "1   2023-02      78377.43\n",
      "2   2023-03      88135.22\n",
      "3   2023-04      77614.65\n",
      "4   2023-05      69417.17\n",
      "5   2023-06      87311.62\n",
      "6   2023-07      93672.11\n",
      "7   2023-08      82388.91\n",
      "8   2023-09      77288.48\n",
      "9   2023-10      94305.82\n",
      "10  2023-11      90152.66\n",
      "11  2023-12      80409.51\n",
      "12  2024-01      81427.26\n",
      "13  2024-02      80002.30\n",
      "14  2024-03      78432.64\n",
      "15  2024-04      85114.07\n",
      "16  2024-05      92257.86\n",
      "17  2024-06      84929.72\n",
      "18  2024-07      79750.99\n",
      "19  2024-08      78873.61\n",
      "20  2024-09      86477.06\n",
      "21  2024-10      72534.76\n",
      "22  2024-11      89967.33\n",
      "23  2024-12      99292.73\n",
      "24  2025-01      81856.33\n",
      "25  2025-02      75387.09\n",
      "26  2025-03      83703.92\n",
      "27  2025-04      80492.71\n",
      "28  2025-05      83415.44\n",
      "29  2025-06      78979.78\n",
      "30  2025-07      85566.45\n",
      "31  2025-08      97531.54\n",
      "32  2025-09      72237.52\n",
      "\n",
      "📉 SQL Query 3: Top 5 Products with Highest Return %\n",
      "   ProductID  TotalReturns  TotalSales  ReturnPct\n",
      "0       1063       6058.63    17771.95      34.09\n",
      "1       1069       3881.93    11989.55      32.38\n",
      "2       1084       5287.01    16708.09      31.64\n",
      "3       1039       2381.73     7873.74      30.25\n",
      "4       1012       6967.02    23459.45      29.70\n",
      "\n",
      "🎉 All steps completed successfully.\n"
     ]
    }
   ],
   "source": [
    "print(\"\\n📊 SQL Query 1: Total Sales by Region\")\n",
    "query1 = pd.read_sql_query(\"\"\"\n",
    "    SELECT Region, ROUND(SUM(Sales), 2) AS TotalSales\n",
    "    FROM sales_inventory\n",
    "    GROUP BY Region\n",
    "\"\"\", conn)\n",
    "print(query1)\n",
    "\n",
    "print(\"\\n📈 SQL Query 2: Monthly Sales Trend\")\n",
    "query2 = pd.read_sql_query(\"\"\"\n",
    "    SELECT strftime('%Y-%m', Date) AS Month, ROUND(SUM(Sales), 2) AS MonthlySales\n",
    "    FROM sales_inventory\n",
    "    GROUP BY Month\n",
    "    ORDER BY Month\n",
    "\"\"\", conn)\n",
    "print(query2)\n",
    "\n",
    "print(\"\\n📉 SQL Query 3: Top 5 Products with Highest Return %\")\n",
    "query3 = pd.read_sql_query(\"\"\"\n",
    "    SELECT ProductID,\n",
    "           ROUND(SUM(Returns), 2) AS TotalReturns,\n",
    "           ROUND(SUM(Sales), 2) AS TotalSales,\n",
    "           ROUND(SUM(Returns)*100.0/SUM(Sales), 2) AS ReturnPct\n",
    "    FROM sales_inventory\n",
    "    GROUP BY ProductID\n",
    "    HAVING TotalSales > 0\n",
    "    ORDER BY ReturnPct DESC\n",
    "    LIMIT 5\n",
    "\"\"\", conn)\n",
    "print(query3)\n",
    "print(\"\\n🎉 All steps completed successfully.\")"
   ]
  },
  {
   "cell_type": "code",
   "execution_count": null,
   "id": "4886165f-ae81-4668-b616-4f4d1dc0b499",
   "metadata": {},
   "outputs": [],
   "source": []
  }
 ],
 "metadata": {
  "kernelspec": {
   "display_name": "Python 3 (ipykernel)",
   "language": "python",
   "name": "python3"
  },
  "language_info": {
   "codemirror_mode": {
    "name": "ipython",
    "version": 3
   },
   "file_extension": ".py",
   "mimetype": "text/x-python",
   "name": "python",
   "nbconvert_exporter": "python",
   "pygments_lexer": "ipython3",
   "version": "3.11.7"
  }
 },
 "nbformat": 4,
 "nbformat_minor": 5
}
